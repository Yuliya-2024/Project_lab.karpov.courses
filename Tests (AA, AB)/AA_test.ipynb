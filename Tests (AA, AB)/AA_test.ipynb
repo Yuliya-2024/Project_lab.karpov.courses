{
 "cells": [
  {
   "cell_type": "markdown",
   "id": "fcabb518-0565-4885-bfbc-8c08b39debfb",
   "metadata": {},
   "source": [
    "# Libraries"
   ]
  },
  {
   "cell_type": "code",
   "execution_count": 1,
   "id": "d0cb603b-9e64-454e-aeda-49bc8ca0c386",
   "metadata": {},
   "outputs": [],
   "source": [
    "import pandas as pd\n",
    "import seaborn as sns\n",
    "import matplotlib.pyplot as plt\n",
    "import pandahouse\n",
    "import random\n",
    "\n",
    "from scipy import stats\n",
    "from random import sample"
   ]
  },
  {
   "cell_type": "markdown",
   "id": "85aa2d6a-a460-44e6-ad6f-b32bf6d792b8",
   "metadata": {},
   "source": [
    "# Connect to database"
   ]
  },
  {
   "cell_type": "code",
   "execution_count": 9,
   "id": "3a7bd436-b8fd-4588-b97a-ee73024f8d2c",
   "metadata": {},
   "outputs": [],
   "source": [
    "# connect = {'host':'https://clickhouse.lab.karpov.courses',\n",
    "#            'password':'dpo_python_2020',\n",
    "#            'user':'student',\n",
    "#            'database':'simulator_20240120'}\n",
    "\n",
    "# query = \"\"\"select exp_group,\n",
    "#                   user_id,\n",
    "#                   sum(action = 'view') as views,\n",
    "#                   sum(action = 'like') as likes,\n",
    "#                   round(likes * 100/views, 2) as ctr\n",
    "#             from simulator_20240120.feed_actions\n",
    "#             where (toDate(time) >= '2023-12-22' and toDate(time) <= '2023-12-28') and exp_group in(2,3)\n",
    "#             group by exp_group, user_id\"\"\"\n",
    "\n",
    "\n",
    "# df = pandahouse.read_clickhouse(query, connection=connect)\n",
    "\n",
    "# # save frame\n",
    "# df.to_csv('data/AA_test.csv', index=False)"
   ]
  },
  {
   "cell_type": "code",
   "execution_count": 11,
   "id": "e91907ee",
   "metadata": {
    "scrolled": true
   },
   "outputs": [
    {
     "data": {
      "text/html": [
       "<div>\n",
       "<style scoped>\n",
       "    .dataframe tbody tr th:only-of-type {\n",
       "        vertical-align: middle;\n",
       "    }\n",
       "\n",
       "    .dataframe tbody tr th {\n",
       "        vertical-align: top;\n",
       "    }\n",
       "\n",
       "    .dataframe thead th {\n",
       "        text-align: right;\n",
       "    }\n",
       "</style>\n",
       "<table border=\"1\" class=\"dataframe\">\n",
       "  <thead>\n",
       "    <tr style=\"text-align: right;\">\n",
       "      <th></th>\n",
       "      <th>exp_group</th>\n",
       "      <th>user_id</th>\n",
       "      <th>views</th>\n",
       "      <th>likes</th>\n",
       "      <th>ctr</th>\n",
       "    </tr>\n",
       "  </thead>\n",
       "  <tbody>\n",
       "    <tr>\n",
       "      <th>0</th>\n",
       "      <td>3</td>\n",
       "      <td>115383</td>\n",
       "      <td>248</td>\n",
       "      <td>38</td>\n",
       "      <td>15.32</td>\n",
       "    </tr>\n",
       "    <tr>\n",
       "      <th>1</th>\n",
       "      <td>3</td>\n",
       "      <td>10326</td>\n",
       "      <td>132</td>\n",
       "      <td>24</td>\n",
       "      <td>18.18</td>\n",
       "    </tr>\n",
       "    <tr>\n",
       "      <th>2</th>\n",
       "      <td>3</td>\n",
       "      <td>123580</td>\n",
       "      <td>122</td>\n",
       "      <td>25</td>\n",
       "      <td>20.49</td>\n",
       "    </tr>\n",
       "  </tbody>\n",
       "</table>\n",
       "</div>"
      ],
      "text/plain": [
       "   exp_group  user_id  views  likes    ctr\n",
       "0          3   115383    248     38  15.32\n",
       "1          3    10326    132     24  18.18\n",
       "2          3   123580    122     25  20.49"
      ]
     },
     "execution_count": 11,
     "metadata": {},
     "output_type": "execute_result"
    }
   ],
   "source": [
    "# save frame\n",
    "df = pd.read_csv('data/AA_test.csv')\n",
    "df.head(3)"
   ]
  },
  {
   "cell_type": "markdown",
   "id": "7197c9ad-f6e9-4f62-9fa2-d051acbc9f4b",
   "metadata": {},
   "source": [
    "# 10 000 А/А-tests simulations"
   ]
  },
  {
   "cell_type": "markdown",
   "id": "63456454",
   "metadata": {},
   "source": [
    " А/А-test: from 2023-12-22 to 2023-12-28"
   ]
  },
  {
   "cell_type": "code",
   "execution_count": 5,
   "id": "90bb0e4a-0f03-4212-a6e7-18905da7add6",
   "metadata": {},
   "outputs": [],
   "source": [
    "# count p-value t-test 10 000 iter.\n",
    "users_gr2 = sorted(df[df['exp_group'] == 2]['user_id'])\n",
    "users_gr3 = sorted(df[df['exp_group'] == 3]['user_id'])\n",
    "ttest_pvalues_list = []\n",
    "\n",
    "for i in range(0,10000):\n",
    "    \n",
    "    # randomly sample values from 2 and 3 groups by 500 users (non repeating)\n",
    "    group2 = random.sample(users_gr2, 500)\n",
    "    group3 = random.sample(users_gr2, 500)\n",
    "    \n",
    "    # split check\n",
    "    if len(set(group2)) == len(set(group3)):\n",
    "        \n",
    "        # get 2 frames from 2 and 3 groups include random users and ctr's\n",
    "        group2_df = pd.DataFrame(group2, columns=['user_id']).join(df[['user_id', 'ctr']].set_index('user_id'), on='user_id')\n",
    "        group3_df = pd.DataFrame(group3, columns=['user_id']).join(df[['user_id', 'ctr']].set_index('user_id'), on='user_id')\n",
    "\n",
    "        # ttest\n",
    "        ttest_pvalue = stats.ttest_ind(group2_df['ctr'], group3_df['ctr'], equal_var=False)[1] \n",
    "        ttest_pvalues_list.append(ttest_pvalue)\n",
    "        \n",
    "    else:\n",
    "        print('Error')\n",
    "        break"
   ]
  },
  {
   "cell_type": "code",
   "execution_count": 13,
   "id": "05e48d99-eac9-423c-afdd-e716bcb5774c",
   "metadata": {},
   "outputs": [
    {
     "name": "stdout",
     "output_type": "stream",
     "text": [
      "Количество проведенных тестов: 10000\n"
     ]
    },
    {
     "data": {
      "image/png": "[encoded data removed]",
      "text/plain": [
       "<Figure size 432x288 with 1 Axes>"
      ]
     },
     "metadata": {
      "needs_background": "light"
     },
     "output_type": "display_data"
    }
   ],
   "source": [
    "# distributions histogram ttest_pvalue\n",
    "\n",
    "print('Ttests simulations count:', len(ttest_pvalues_list))\n",
    "\n",
    "ax = sns.histplot(data=ttest_pvalues_list, bins=100)\n",
    "ax.set(xlabel='p-value', ylabel='count')\n",
    "ax.set_title('Histogram')\n",
    "plt.show()"
   ]
  },
  {
   "cell_type": "code",
   "execution_count": 12,
   "id": "4e86d3c7-14ff-4ea9-b84e-ea3c4a20c791",
   "metadata": {},
   "outputs": [
    {
     "name": "stdout",
     "output_type": "stream",
     "text": [
      "Доля pvalue, значение которых <= 0.05: 4.49 %\n"
     ]
    }
   ],
   "source": [
    "# how much p-value samples <= 0.05\n",
    "\n",
    "percentage = sum(pd.DataFrame(ttest_pvalues_list, columns=['pvalue'])['pvalue'] <= 0.05)*100 / 10000\n",
    "print('Share of pvalue with values <= 0.05:', percentage, '%')"
   ]
  },
  {
   "cell_type": "markdown",
   "id": "8fe485a3-7531-4127-8570-d4ea8f44f8e5",
   "metadata": {},
   "source": [
    "# Conclusion:"
   ]
  },
  {
   "cell_type": "markdown",
   "id": "c180431b",
   "metadata": {},
   "source": [
    "The p-values in the T-test are uniform distributions. The probability of getting any p-values in once ttest has 1/N possibility.\n",
    "\n",
    "In our case, just 4.5% of 10 000 test show values lowest than 0.05.\n",
    "\n",
    "We can conclude that 2 and 3 groups have not statistically difference by main metric."
   ]
  },
  {
   "cell_type": "code",
   "execution_count": null,
   "id": "1ab34a61",
   "metadata": {},
   "outputs": [],
   "source": []
  }
 ],
 "metadata": {
  "kernelspec": {
   "display_name": "Python 3 (ipykernel)",
   "language": "python",
   "name": "python3"
  },
  "language_info": {
   "codemirror_mode": {
    "name": "ipython",
    "version": 3
   },
   "file_extension": ".py",
   "mimetype": "text/x-python",
   "name": "python",
   "nbconvert_exporter": "python",
   "pygments_lexer": "ipython3",
   "version": "3.10.9"
  }
 },
 "nbformat": 4,
 "nbformat_minor": 5
}
